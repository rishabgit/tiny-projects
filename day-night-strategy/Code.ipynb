{
 "cells": [
  {
   "cell_type": "markdown",
   "id": "f4cab741-c9a5-48cf-860b-3af2dcf9c249",
   "metadata": {},
   "source": [
    "#### To access the historical stock data, we'll be using yfinance which pulls data from Yahoo! Finance"
   ]
  },
  {
   "cell_type": "code",
   "execution_count": null,
   "id": "c95c1a7e-d3c7-4aff-928a-32b6ef3aca70",
   "metadata": {},
   "outputs": [],
   "source": [
    "!pip install yfinance"
   ]
  },
  {
   "cell_type": "markdown",
   "id": "8e3b8a4b-2760-4dd5-99f4-f5252e33f735",
   "metadata": {},
   "source": [
    "#### Importing necessary packages"
   ]
  },
  {
   "cell_type": "code",
   "execution_count": 1,
   "id": "244b09ac-3a8f-444a-8487-4d8640dbc197",
   "metadata": {},
   "outputs": [],
   "source": [
    "import pandas as pd\n",
    "import datetime\n",
    "import numpy as np\n",
    "\n",
    "import yfinance as yf\n",
    "from prettytable import PrettyTable "
   ]
  },
  {
   "cell_type": "markdown",
   "id": "4b07df15-3269-4e31-9b54-b61a736222d5",
   "metadata": {},
   "source": [
    "#### Setting the capital and duration"
   ]
  },
  {
   "cell_type": "code",
   "execution_count": 2,
   "id": "170d9f70-2f9f-4323-8057-776090f9c623",
   "metadata": {},
   "outputs": [],
   "source": [
    "# Amount of capital to both Amazon and Apple\n",
    "principal_amount = 1000\n",
    "# In DD/MM/YYYY format\n",
    "start_date = '2020-07-01'\n",
    "end_date = '2021-09-01'"
   ]
  },
  {
   "cell_type": "markdown",
   "id": "1b3e7576-a7dc-4aed-b614-604036e2d626",
   "metadata": {},
   "source": [
    "#### Pulling the stock data"
   ]
  },
  {
   "cell_type": "code",
   "execution_count": 3,
   "id": "0777cd52-713b-4af9-9f6e-1d96fb369f8e",
   "metadata": {},
   "outputs": [
    {
     "name": "stdout",
     "output_type": "stream",
     "text": [
      "[*********************100%***********************]  1 of 1 completed\n",
      "[*********************100%***********************]  1 of 1 completed\n"
     ]
    }
   ],
   "source": [
    "# Using yahoo finance api to access stock data for inputted time period\n",
    "amzn_data = yf.download('AMZN', start=start_date, end=end_date)\n",
    "aapl_data = yf.download('AAPL', start=start_date, end=end_date)"
   ]
  },
  {
   "cell_type": "markdown",
   "id": "a16b1c4a-2d41-4598-8d5f-53b8584a308e",
   "metadata": {},
   "source": [
    "#### Checking how the data looks like"
   ]
  },
  {
   "cell_type": "code",
   "execution_count": 4,
   "id": "6812ef4c-964d-4d48-a531-0948846b76c5",
   "metadata": {
    "tags": []
   },
   "outputs": [
    {
     "data": {
      "text/html": [
       "<div>\n",
       "<style scoped>\n",
       "    .dataframe tbody tr th:only-of-type {\n",
       "        vertical-align: middle;\n",
       "    }\n",
       "\n",
       "    .dataframe tbody tr th {\n",
       "        vertical-align: top;\n",
       "    }\n",
       "\n",
       "    .dataframe thead th {\n",
       "        text-align: right;\n",
       "    }\n",
       "</style>\n",
       "<table border=\"1\" class=\"dataframe\">\n",
       "  <thead>\n",
       "    <tr style=\"text-align: right;\">\n",
       "      <th></th>\n",
       "      <th>Open</th>\n",
       "      <th>High</th>\n",
       "      <th>Low</th>\n",
       "      <th>Close</th>\n",
       "      <th>Adj Close</th>\n",
       "      <th>Volume</th>\n",
       "    </tr>\n",
       "    <tr>\n",
       "      <th>Date</th>\n",
       "      <th></th>\n",
       "      <th></th>\n",
       "      <th></th>\n",
       "      <th></th>\n",
       "      <th></th>\n",
       "      <th></th>\n",
       "    </tr>\n",
       "  </thead>\n",
       "  <tbody>\n",
       "    <tr>\n",
       "      <th>2020-06-30</th>\n",
       "      <td>2685.070068</td>\n",
       "      <td>2769.629883</td>\n",
       "      <td>2675.030029</td>\n",
       "      <td>2758.820068</td>\n",
       "      <td>2758.820068</td>\n",
       "      <td>3769700</td>\n",
       "    </tr>\n",
       "    <tr>\n",
       "      <th>2020-07-01</th>\n",
       "      <td>2757.989990</td>\n",
       "      <td>2895.000000</td>\n",
       "      <td>2754.000000</td>\n",
       "      <td>2878.699951</td>\n",
       "      <td>2878.699951</td>\n",
       "      <td>6363400</td>\n",
       "    </tr>\n",
       "    <tr>\n",
       "      <th>2020-07-02</th>\n",
       "      <td>2912.010010</td>\n",
       "      <td>2955.560059</td>\n",
       "      <td>2871.100098</td>\n",
       "      <td>2890.300049</td>\n",
       "      <td>2890.300049</td>\n",
       "      <td>6593400</td>\n",
       "    </tr>\n",
       "    <tr>\n",
       "      <th>2020-07-06</th>\n",
       "      <td>2934.969971</td>\n",
       "      <td>3059.879883</td>\n",
       "      <td>2930.000000</td>\n",
       "      <td>3057.040039</td>\n",
       "      <td>3057.040039</td>\n",
       "      <td>6880600</td>\n",
       "    </tr>\n",
       "    <tr>\n",
       "      <th>2020-07-07</th>\n",
       "      <td>3058.550049</td>\n",
       "      <td>3069.550049</td>\n",
       "      <td>2990.000000</td>\n",
       "      <td>3000.120117</td>\n",
       "      <td>3000.120117</td>\n",
       "      <td>5257500</td>\n",
       "    </tr>\n",
       "  </tbody>\n",
       "</table>\n",
       "</div>"
      ],
      "text/plain": [
       "                   Open         High          Low        Close    Adj Close  \\\n",
       "Date                                                                          \n",
       "2020-06-30  2685.070068  2769.629883  2675.030029  2758.820068  2758.820068   \n",
       "2020-07-01  2757.989990  2895.000000  2754.000000  2878.699951  2878.699951   \n",
       "2020-07-02  2912.010010  2955.560059  2871.100098  2890.300049  2890.300049   \n",
       "2020-07-06  2934.969971  3059.879883  2930.000000  3057.040039  3057.040039   \n",
       "2020-07-07  3058.550049  3069.550049  2990.000000  3000.120117  3000.120117   \n",
       "\n",
       "             Volume  \n",
       "Date                 \n",
       "2020-06-30  3769700  \n",
       "2020-07-01  6363400  \n",
       "2020-07-02  6593400  \n",
       "2020-07-06  6880600  \n",
       "2020-07-07  5257500  "
      ]
     },
     "execution_count": 4,
     "metadata": {},
     "output_type": "execute_result"
    }
   ],
   "source": [
    "amzn_data.head()"
   ]
  },
  {
   "cell_type": "code",
   "execution_count": 5,
   "id": "80de9ec6-d5d7-4037-bc28-c933755db09b",
   "metadata": {
    "tags": []
   },
   "outputs": [
    {
     "data": {
      "text/html": [
       "<div>\n",
       "<style scoped>\n",
       "    .dataframe tbody tr th:only-of-type {\n",
       "        vertical-align: middle;\n",
       "    }\n",
       "\n",
       "    .dataframe tbody tr th {\n",
       "        vertical-align: top;\n",
       "    }\n",
       "\n",
       "    .dataframe thead th {\n",
       "        text-align: right;\n",
       "    }\n",
       "</style>\n",
       "<table border=\"1\" class=\"dataframe\">\n",
       "  <thead>\n",
       "    <tr style=\"text-align: right;\">\n",
       "      <th></th>\n",
       "      <th>Open</th>\n",
       "      <th>High</th>\n",
       "      <th>Low</th>\n",
       "      <th>Close</th>\n",
       "      <th>Adj Close</th>\n",
       "      <th>Volume</th>\n",
       "    </tr>\n",
       "    <tr>\n",
       "      <th>Date</th>\n",
       "      <th></th>\n",
       "      <th></th>\n",
       "      <th></th>\n",
       "      <th></th>\n",
       "      <th></th>\n",
       "      <th></th>\n",
       "    </tr>\n",
       "  </thead>\n",
       "  <tbody>\n",
       "    <tr>\n",
       "      <th>2020-06-30</th>\n",
       "      <td>90.019997</td>\n",
       "      <td>91.495003</td>\n",
       "      <td>90.000000</td>\n",
       "      <td>91.199997</td>\n",
       "      <td>90.454079</td>\n",
       "      <td>140223200</td>\n",
       "    </tr>\n",
       "    <tr>\n",
       "      <th>2020-07-01</th>\n",
       "      <td>91.279999</td>\n",
       "      <td>91.839996</td>\n",
       "      <td>90.977501</td>\n",
       "      <td>91.027496</td>\n",
       "      <td>90.282982</td>\n",
       "      <td>110737200</td>\n",
       "    </tr>\n",
       "    <tr>\n",
       "      <th>2020-07-02</th>\n",
       "      <td>91.962502</td>\n",
       "      <td>92.617500</td>\n",
       "      <td>90.910004</td>\n",
       "      <td>91.027496</td>\n",
       "      <td>90.282982</td>\n",
       "      <td>114041600</td>\n",
       "    </tr>\n",
       "    <tr>\n",
       "      <th>2020-07-06</th>\n",
       "      <td>92.500000</td>\n",
       "      <td>93.945000</td>\n",
       "      <td>92.467499</td>\n",
       "      <td>93.462502</td>\n",
       "      <td>92.698074</td>\n",
       "      <td>118655600</td>\n",
       "    </tr>\n",
       "    <tr>\n",
       "      <th>2020-07-07</th>\n",
       "      <td>93.852501</td>\n",
       "      <td>94.654999</td>\n",
       "      <td>93.057503</td>\n",
       "      <td>93.172501</td>\n",
       "      <td>92.410439</td>\n",
       "      <td>112424400</td>\n",
       "    </tr>\n",
       "  </tbody>\n",
       "</table>\n",
       "</div>"
      ],
      "text/plain": [
       "                 Open       High        Low      Close  Adj Close     Volume\n",
       "Date                                                                        \n",
       "2020-06-30  90.019997  91.495003  90.000000  91.199997  90.454079  140223200\n",
       "2020-07-01  91.279999  91.839996  90.977501  91.027496  90.282982  110737200\n",
       "2020-07-02  91.962502  92.617500  90.910004  91.027496  90.282982  114041600\n",
       "2020-07-06  92.500000  93.945000  92.467499  93.462502  92.698074  118655600\n",
       "2020-07-07  93.852501  94.654999  93.057503  93.172501  92.410439  112424400"
      ]
     },
     "execution_count": 5,
     "metadata": {},
     "output_type": "execute_result"
    }
   ],
   "source": [
    "aapl_data.head()"
   ]
  },
  {
   "cell_type": "markdown",
   "id": "201d991a-69d6-49b5-9fb3-ebe97ef96346",
   "metadata": {},
   "source": [
    "#### Removing columns which aren't necessary "
   ]
  },
  {
   "cell_type": "code",
   "execution_count": 6,
   "id": "d932722e-46a3-4818-8875-40a6c4f1007b",
   "metadata": {},
   "outputs": [],
   "source": [
    "# Cleaning the data\n",
    "amzn_data.drop(['High','Low','Adj Close', 'Volume'],axis=1,inplace=True)\n",
    "aapl_data.drop(['High','Low','Adj Close', 'Volume'],axis=1,inplace=True)"
   ]
  },
  {
   "cell_type": "code",
   "execution_count": 7,
   "id": "0fdd7ff6-5d70-4244-a2aa-de984f113104",
   "metadata": {},
   "outputs": [
    {
     "data": {
      "text/html": [
       "<div>\n",
       "<style scoped>\n",
       "    .dataframe tbody tr th:only-of-type {\n",
       "        vertical-align: middle;\n",
       "    }\n",
       "\n",
       "    .dataframe tbody tr th {\n",
       "        vertical-align: top;\n",
       "    }\n",
       "\n",
       "    .dataframe thead th {\n",
       "        text-align: right;\n",
       "    }\n",
       "</style>\n",
       "<table border=\"1\" class=\"dataframe\">\n",
       "  <thead>\n",
       "    <tr style=\"text-align: right;\">\n",
       "      <th></th>\n",
       "      <th>Open</th>\n",
       "      <th>Close</th>\n",
       "    </tr>\n",
       "    <tr>\n",
       "      <th>Date</th>\n",
       "      <th></th>\n",
       "      <th></th>\n",
       "    </tr>\n",
       "  </thead>\n",
       "  <tbody>\n",
       "    <tr>\n",
       "      <th>2020-06-30</th>\n",
       "      <td>2685.070068</td>\n",
       "      <td>2758.820068</td>\n",
       "    </tr>\n",
       "    <tr>\n",
       "      <th>2020-07-01</th>\n",
       "      <td>2757.989990</td>\n",
       "      <td>2878.699951</td>\n",
       "    </tr>\n",
       "    <tr>\n",
       "      <th>2020-07-02</th>\n",
       "      <td>2912.010010</td>\n",
       "      <td>2890.300049</td>\n",
       "    </tr>\n",
       "    <tr>\n",
       "      <th>2020-07-06</th>\n",
       "      <td>2934.969971</td>\n",
       "      <td>3057.040039</td>\n",
       "    </tr>\n",
       "    <tr>\n",
       "      <th>2020-07-07</th>\n",
       "      <td>3058.550049</td>\n",
       "      <td>3000.120117</td>\n",
       "    </tr>\n",
       "  </tbody>\n",
       "</table>\n",
       "</div>"
      ],
      "text/plain": [
       "                   Open        Close\n",
       "Date                                \n",
       "2020-06-30  2685.070068  2758.820068\n",
       "2020-07-01  2757.989990  2878.699951\n",
       "2020-07-02  2912.010010  2890.300049\n",
       "2020-07-06  2934.969971  3057.040039\n",
       "2020-07-07  3058.550049  3000.120117"
      ]
     },
     "execution_count": 7,
     "metadata": {},
     "output_type": "execute_result"
    }
   ],
   "source": [
    "amzn_data.head()"
   ]
  },
  {
   "cell_type": "code",
   "execution_count": 8,
   "id": "338cd0ed-0faf-4c46-895b-a536e349f370",
   "metadata": {},
   "outputs": [
    {
     "data": {
      "text/html": [
       "<div>\n",
       "<style scoped>\n",
       "    .dataframe tbody tr th:only-of-type {\n",
       "        vertical-align: middle;\n",
       "    }\n",
       "\n",
       "    .dataframe tbody tr th {\n",
       "        vertical-align: top;\n",
       "    }\n",
       "\n",
       "    .dataframe thead th {\n",
       "        text-align: right;\n",
       "    }\n",
       "</style>\n",
       "<table border=\"1\" class=\"dataframe\">\n",
       "  <thead>\n",
       "    <tr style=\"text-align: right;\">\n",
       "      <th></th>\n",
       "      <th>Open</th>\n",
       "      <th>Close</th>\n",
       "    </tr>\n",
       "    <tr>\n",
       "      <th>Date</th>\n",
       "      <th></th>\n",
       "      <th></th>\n",
       "    </tr>\n",
       "  </thead>\n",
       "  <tbody>\n",
       "    <tr>\n",
       "      <th>2020-06-30</th>\n",
       "      <td>90.019997</td>\n",
       "      <td>91.199997</td>\n",
       "    </tr>\n",
       "    <tr>\n",
       "      <th>2020-07-01</th>\n",
       "      <td>91.279999</td>\n",
       "      <td>91.027496</td>\n",
       "    </tr>\n",
       "    <tr>\n",
       "      <th>2020-07-02</th>\n",
       "      <td>91.962502</td>\n",
       "      <td>91.027496</td>\n",
       "    </tr>\n",
       "    <tr>\n",
       "      <th>2020-07-06</th>\n",
       "      <td>92.500000</td>\n",
       "      <td>93.462502</td>\n",
       "    </tr>\n",
       "    <tr>\n",
       "      <th>2020-07-07</th>\n",
       "      <td>93.852501</td>\n",
       "      <td>93.172501</td>\n",
       "    </tr>\n",
       "  </tbody>\n",
       "</table>\n",
       "</div>"
      ],
      "text/plain": [
       "                 Open      Close\n",
       "Date                            \n",
       "2020-06-30  90.019997  91.199997\n",
       "2020-07-01  91.279999  91.027496\n",
       "2020-07-02  91.962502  91.027496\n",
       "2020-07-06  92.500000  93.462502\n",
       "2020-07-07  93.852501  93.172501"
      ]
     },
     "execution_count": 8,
     "metadata": {},
     "output_type": "execute_result"
    }
   ],
   "source": [
    "aapl_data.head()"
   ]
  },
  {
   "cell_type": "markdown",
   "id": "819871a7-6dd8-4aae-94ce-7fb51cdfc34e",
   "metadata": {},
   "source": [
    "#### Calculating the overnight return"
   ]
  },
  {
   "cell_type": "markdown",
   "id": "629af159-4b1c-46ce-a75b-c17b55e76cc8",
   "metadata": {},
   "source": [
    "Formula for overnight return = ((Open - Previous Close) / Close) * 100  \n",
    "The first transaction would be buying on the start date, so we won't consider the start date's open price, which represents the date of selling.   \n",
    "Similarly, the last transaction would be selling on the end date, so we won't consider the end date's close price which represents the date of buying.   "
   ]
  },
  {
   "cell_type": "code",
   "execution_count": 9,
   "id": "a3e0b8ea-d2d1-4776-9fdf-c2dc78ee2777",
   "metadata": {},
   "outputs": [],
   "source": [
    "# (Open - Previous Close)\n",
    "overnight_return = amzn_data['Open'].to_numpy()[1:] - amzn_data['Close'].to_numpy()[:-1]\n",
    "# Dividing by Previous Close\n",
    "overnight_return = overnight_return / amzn_data['Close'].to_numpy()[:-1]\n",
    "# Converting to percentile by multiplying 100\n",
    "overnight_return = overnight_return * 100\n",
    "\n",
    "# We start the buying process at close price at first day, the first day's return would be zero\n",
    "overnight_return = np.insert(overnight_return, 0, 0.0)\n",
    "\n",
    "amzn_data['Overnight Return %'] = overnight_return"
   ]
  },
  {
   "cell_type": "code",
   "execution_count": 10,
   "id": "15b6413d-b7fb-47c5-b640-5a904eb3def3",
   "metadata": {},
   "outputs": [
    {
     "data": {
      "text/html": [
       "<div>\n",
       "<style scoped>\n",
       "    .dataframe tbody tr th:only-of-type {\n",
       "        vertical-align: middle;\n",
       "    }\n",
       "\n",
       "    .dataframe tbody tr th {\n",
       "        vertical-align: top;\n",
       "    }\n",
       "\n",
       "    .dataframe thead th {\n",
       "        text-align: right;\n",
       "    }\n",
       "</style>\n",
       "<table border=\"1\" class=\"dataframe\">\n",
       "  <thead>\n",
       "    <tr style=\"text-align: right;\">\n",
       "      <th></th>\n",
       "      <th>Open</th>\n",
       "      <th>Close</th>\n",
       "      <th>Overnight Return %</th>\n",
       "    </tr>\n",
       "    <tr>\n",
       "      <th>Date</th>\n",
       "      <th></th>\n",
       "      <th></th>\n",
       "      <th></th>\n",
       "    </tr>\n",
       "  </thead>\n",
       "  <tbody>\n",
       "    <tr>\n",
       "      <th>2020-06-30</th>\n",
       "      <td>2685.070068</td>\n",
       "      <td>2758.820068</td>\n",
       "      <td>0.000000</td>\n",
       "    </tr>\n",
       "    <tr>\n",
       "      <th>2020-07-01</th>\n",
       "      <td>2757.989990</td>\n",
       "      <td>2878.699951</td>\n",
       "      <td>-0.030088</td>\n",
       "    </tr>\n",
       "    <tr>\n",
       "      <th>2020-07-02</th>\n",
       "      <td>2912.010010</td>\n",
       "      <td>2890.300049</td>\n",
       "      <td>1.157122</td>\n",
       "    </tr>\n",
       "    <tr>\n",
       "      <th>2020-07-06</th>\n",
       "      <td>2934.969971</td>\n",
       "      <td>3057.040039</td>\n",
       "      <td>1.545512</td>\n",
       "    </tr>\n",
       "    <tr>\n",
       "      <th>2020-07-07</th>\n",
       "      <td>3058.550049</td>\n",
       "      <td>3000.120117</td>\n",
       "      <td>0.049395</td>\n",
       "    </tr>\n",
       "  </tbody>\n",
       "</table>\n",
       "</div>"
      ],
      "text/plain": [
       "                   Open        Close  Overnight Return %\n",
       "Date                                                    \n",
       "2020-06-30  2685.070068  2758.820068            0.000000\n",
       "2020-07-01  2757.989990  2878.699951           -0.030088\n",
       "2020-07-02  2912.010010  2890.300049            1.157122\n",
       "2020-07-06  2934.969971  3057.040039            1.545512\n",
       "2020-07-07  3058.550049  3000.120117            0.049395"
      ]
     },
     "execution_count": 10,
     "metadata": {},
     "output_type": "execute_result"
    }
   ],
   "source": [
    "amzn_data.head()"
   ]
  },
  {
   "cell_type": "markdown",
   "id": "1e837d0f-5ed5-41cb-9d62-df2e762ab0f7",
   "metadata": {},
   "source": [
    "#### Repeating the process on AAPL stock"
   ]
  },
  {
   "cell_type": "code",
   "execution_count": 11,
   "id": "7dae1abc-4714-453d-b8d0-8664f745777c",
   "metadata": {},
   "outputs": [],
   "source": [
    "# (Open - Previous Close)\n",
    "overnight_return = aapl_data['Open'].to_numpy()[1:] - aapl_data['Close'].to_numpy()[:-1]\n",
    "# Dividing by Previous Close\n",
    "overnight_return = overnight_return / aapl_data['Close'].to_numpy()[:-1]\n",
    "# Converting to percentile by multiplying 100\n",
    "overnight_return = overnight_return * 100\n",
    "\n",
    "# We start the buying process at close price at first day, the first day's return would be zero\n",
    "overnight_return = np.insert(overnight_return, 0, 0.0)\n",
    "\n",
    "aapl_data['Overnight Return %'] = overnight_return"
   ]
  },
  {
   "cell_type": "code",
   "execution_count": 12,
   "id": "0ff59c66-8bcc-4400-ab15-40b0fd79aa4f",
   "metadata": {},
   "outputs": [
    {
     "data": {
      "text/html": [
       "<div>\n",
       "<style scoped>\n",
       "    .dataframe tbody tr th:only-of-type {\n",
       "        vertical-align: middle;\n",
       "    }\n",
       "\n",
       "    .dataframe tbody tr th {\n",
       "        vertical-align: top;\n",
       "    }\n",
       "\n",
       "    .dataframe thead th {\n",
       "        text-align: right;\n",
       "    }\n",
       "</style>\n",
       "<table border=\"1\" class=\"dataframe\">\n",
       "  <thead>\n",
       "    <tr style=\"text-align: right;\">\n",
       "      <th></th>\n",
       "      <th>Open</th>\n",
       "      <th>Close</th>\n",
       "      <th>Overnight Return %</th>\n",
       "    </tr>\n",
       "    <tr>\n",
       "      <th>Date</th>\n",
       "      <th></th>\n",
       "      <th></th>\n",
       "      <th></th>\n",
       "    </tr>\n",
       "  </thead>\n",
       "  <tbody>\n",
       "    <tr>\n",
       "      <th>2020-06-30</th>\n",
       "      <td>90.019997</td>\n",
       "      <td>91.199997</td>\n",
       "      <td>0.000000</td>\n",
       "    </tr>\n",
       "    <tr>\n",
       "      <th>2020-07-01</th>\n",
       "      <td>91.279999</td>\n",
       "      <td>91.027496</td>\n",
       "      <td>0.087721</td>\n",
       "    </tr>\n",
       "    <tr>\n",
       "      <th>2020-07-02</th>\n",
       "      <td>91.962502</td>\n",
       "      <td>91.027496</td>\n",
       "      <td>1.027168</td>\n",
       "    </tr>\n",
       "    <tr>\n",
       "      <th>2020-07-06</th>\n",
       "      <td>92.500000</td>\n",
       "      <td>93.462502</td>\n",
       "      <td>1.617647</td>\n",
       "    </tr>\n",
       "    <tr>\n",
       "      <th>2020-07-07</th>\n",
       "      <td>93.852501</td>\n",
       "      <td>93.172501</td>\n",
       "      <td>0.417279</td>\n",
       "    </tr>\n",
       "  </tbody>\n",
       "</table>\n",
       "</div>"
      ],
      "text/plain": [
       "                 Open      Close  Overnight Return %\n",
       "Date                                                \n",
       "2020-06-30  90.019997  91.199997            0.000000\n",
       "2020-07-01  91.279999  91.027496            0.087721\n",
       "2020-07-02  91.962502  91.027496            1.027168\n",
       "2020-07-06  92.500000  93.462502            1.617647\n",
       "2020-07-07  93.852501  93.172501            0.417279"
      ]
     },
     "execution_count": 12,
     "metadata": {},
     "output_type": "execute_result"
    }
   ],
   "source": [
    "aapl_data.head()"
   ]
  },
  {
   "cell_type": "markdown",
   "id": "f780e6c2-292a-494c-8f6a-601dec97440c",
   "metadata": {},
   "source": [
    "#### Testing"
   ]
  },
  {
   "cell_type": "code",
   "execution_count": 13,
   "id": "e980969e-6546-421e-ae96-289aa7795712",
   "metadata": {},
   "outputs": [
    {
     "name": "stdout",
     "output_type": "stream",
     "text": [
      "$ 1000  invested in Amazon Stock on 2020-07-01\n",
      "Investment value after Day-night on  2021-09-01 : 1525.9\n",
      "Day-night PnL :  52.59 %\n",
      "Investment value after holding on  2021-09-01 : 1275.5\n",
      "Holding PnL :  27.55 %\n"
     ]
    }
   ],
   "source": [
    "# Finding the total PnL from day-night stratergy\n",
    "print('$',str(principal_amount), ' invested in Amazon Stock on',start_date)\n",
    "amzn_profit = 0\n",
    "for i, date in enumerate(amzn_data.index[1:]):\n",
    "    # Normalizing the Timestamp to DD/MM/YYYY\n",
    "    date = date.strftime(\"%d/%m/%Y\")\n",
    "    amzn_pnl =  (amzn_data['Overnight Return %'][i+1]/100) * principal_amount\n",
    "    amzn_profit = amzn_profit + amzn_pnl\n",
    "print('Investment value after Day-night on ',end_date,':',(principal_amount + amzn_profit).round(1))\n",
    "print('Day-night PnL : ',((amzn_profit/principal_amount) * 100).round(2),'%')\n",
    "\n",
    "# Finding the total PnL from simply holding (assuming fractional shares)\n",
    "buy_price = amzn_data.iloc[0][0]\n",
    "sell_price = amzn_data.iloc[-1][0]\n",
    "amzn_profit = ((principal_amount/buy_price) * sell_price) - principal_amount\n",
    "print('Investment value after holding on ',end_date,':',(principal_amount + amzn_profit).round(1))\n",
    "print('Holding PnL : ',((amzn_profit/principal_amount) * 100).round(2),'%')"
   ]
  },
  {
   "cell_type": "code",
   "execution_count": 14,
   "id": "73d00282-7c14-45b3-882e-b3ae1f72b2e9",
   "metadata": {},
   "outputs": [
    {
     "name": "stdout",
     "output_type": "stream",
     "text": [
      "$ 1000  invested in Apple Stock on 2020-07-01\n",
      "Investment value after Day-night on  2021-09-01 : 1538.1\n",
      "Day-night PnL ::  53.81 %\n",
      "Investment value after holding on  2021-09-01 : 1695.8\n",
      "Holding PnL :  69.58 %\n"
     ]
    }
   ],
   "source": [
    "# Printing the total PnL\n",
    "print('$',str(principal_amount), ' invested in Apple Stock on',start_date)\n",
    "aapl_profit = 0\n",
    "for i, date in enumerate(aapl_data.index[1:]):\n",
    "    # Normalizing the Timestamp to DD/MM/YYYY\n",
    "    date = date.strftime(\"%d/%m/%Y\")\n",
    "    aapl_pnl =  (aapl_data['Overnight Return %'][i+1] / 100) * principal_amount\n",
    "    aapl_profit = aapl_profit + aapl_pnl\n",
    "print('Investment value after Day-night on ',end_date,':',(principal_amount + aapl_profit).round(1))\n",
    "print('Day-night PnL :: ',((aapl_profit/principal_amount) * 100).round(2),'%')\n",
    "\n",
    "# Finding the total PnL from simply holding (assuming fractional shares)\n",
    "buy_price = aapl_data.iloc[0][0]\n",
    "sell_price = aapl_data.iloc[-1][0]\n",
    "aapl_profit = (principal_amount/buy_price) * sell_price - principal_amount\n",
    "print('Investment value after holding on ',end_date,':',(principal_amount + aapl_profit).round(1))\n",
    "print('Holding PnL : ',((aapl_profit/principal_amount) * 100).round(2),'%')"
   ]
  },
  {
   "cell_type": "markdown",
   "id": "16d25d93-7e01-4c21-9e41-84ee3f775ed8",
   "metadata": {},
   "source": [
    "### Visualing on different timeframes"
   ]
  },
  {
   "cell_type": "code",
   "execution_count": 15,
   "id": "4dc6fc64-8a46-4901-9466-f788d4cdc50a",
   "metadata": {},
   "outputs": [],
   "source": [
    "table = PrettyTable([\"Duration\", \"Stock\", \"Holding\", \"Day-night Strategy\"]) "
   ]
  },
  {
   "cell_type": "code",
   "execution_count": 16,
   "id": "6f80be59-7362-4b66-8971-0a58a5cd0482",
   "metadata": {},
   "outputs": [],
   "source": [
    "end_date = '2021-09-01'\n",
    "duration_and_start_date = [\\\n",
    "                        ['1 week', '2021-08-25'], ['1 month', '2021-08-01'],\n",
    "                        ['1 quarter', '2021-06-01'], ['1 year', '2020-09-01'],\n",
    "                        ['1 decade', '2011-09-01']\n",
    "                        ]"
   ]
  },
  {
   "cell_type": "code",
   "execution_count": 17,
   "id": "adc6b61c-ca21-49ab-a3e3-b0eb2ee08b33",
   "metadata": {},
   "outputs": [
    {
     "name": "stdout",
     "output_type": "stream",
     "text": [
      "[*********************100%***********************]  1 of 1 completed\n",
      "[*********************100%***********************]  1 of 1 completed\n",
      "[*********************100%***********************]  1 of 1 completed\n",
      "[*********************100%***********************]  1 of 1 completed\n",
      "[*********************100%***********************]  1 of 1 completed\n",
      "[*********************100%***********************]  1 of 1 completed\n",
      "[*********************100%***********************]  1 of 1 completed\n",
      "[*********************100%***********************]  1 of 1 completed\n",
      "[*********************100%***********************]  1 of 1 completed\n",
      "[*********************100%***********************]  1 of 1 completed\n"
     ]
    }
   ],
   "source": [
    "for duration, start_date in duration_and_start_date:\n",
    "    # Using yahoo finance api to access stock data for inputted time period\n",
    "    amzn_data = yf.download('AMZN', start=start_date, end=end_date)\n",
    "    aapl_data = yf.download('AAPL', start=start_date, end=end_date)\n",
    "\n",
    "    # Cleaning the data\n",
    "    amzn_data.drop(['High','Low','Adj Close', 'Volume'],axis=1,inplace=True)\n",
    "    aapl_data.drop(['High','Low','Adj Close', 'Volume'],axis=1,inplace=True)\n",
    "\n",
    "    # Calculating the overnight return for AMZN\n",
    "    overnight_return = amzn_data['Open'].to_numpy()[1:] - amzn_data['Close'].to_numpy()[:-1]\n",
    "    overnight_return = overnight_return / amzn_data['Close'].to_numpy()[:-1]\n",
    "    overnight_return = overnight_return * 100\n",
    "    overnight_return = np.insert(overnight_return, 0, 0.0)\n",
    "    amzn_data['Overnight Return %'] = overnight_return\n",
    "\n",
    "    # Calculating the overnight return for AAPL\n",
    "    overnight_return = aapl_data['Open'].to_numpy()[1:] - aapl_data['Close'].to_numpy()[:-1]\n",
    "    overnight_return = overnight_return / aapl_data['Close'].to_numpy()[:-1]\n",
    "    overnight_return = overnight_return * 100\n",
    "    overnight_return = np.insert(overnight_return, 0, 0.0)\n",
    "    aapl_data['Overnight Return %'] = overnight_return\n",
    "\n",
    "    # Finding the PnLs for AMZN (assuming fractional shares)\n",
    "    amzn_profit = 0\n",
    "    for i, date in enumerate(amzn_data.index[1:]):\n",
    "        # Normalizing the Timestamp to DD/MM/YYYY\n",
    "        date = date.strftime(\"%d/%m/%Y\")\n",
    "        amzn_pnl =  (amzn_data['Overnight Return %'][i+1] / 100) * principal_amount\n",
    "        amzn_profit = amzn_profit + amzn_pnl\n",
    "    dn_pnl = str(((amzn_profit/principal_amount)*100).round(2)) + '%'\n",
    "    buy_price = amzn_data.iloc[0][0]\n",
    "    sell_price = amzn_data.iloc[-1][0]\n",
    "    amzn_profit = (principal_amount/buy_price) * sell_price - principal_amount\n",
    "    hold_pnl = str(((amzn_profit/principal_amount)*100).round(2)) + '%'\n",
    "    # Adding the data to the table\n",
    "    table.add_row([duration, 'AMZN', hold_pnl, dn_pnl])\n",
    "\n",
    "    # Finding the PnLs for AAPL (assuming fractional shares)\n",
    "    aapl_profit = 0\n",
    "    for i, date in enumerate(aapl_data.index[1:]):\n",
    "        # Normalizing the Timestamp to DD/MM/YYYY\n",
    "        date = date.strftime(\"%d/%m/%Y\")\n",
    "        aapl_pnl =  (aapl_data['Overnight Return %'][i+1] / 100) * principal_amount\n",
    "        aapl_profit = aapl_profit + aapl_pnl\n",
    "    dn_pnl = str(((aapl_profit/principal_amount)*100).round(2)) + '%'\n",
    "    buy_price = aapl_data.iloc[0][0]\n",
    "    sell_price = aapl_data.iloc[-1][0]\n",
    "    aapl_profit = (principal_amount/buy_price) * sell_price - principal_amount\n",
    "    hold_pnl = str(((aapl_profit/principal_amount)*100).round(2)) + '%'\n",
    "    # Adding the data to the table\n",
    "    table.add_row([duration, 'AAPL', hold_pnl, dn_pnl])"
   ]
  },
  {
   "cell_type": "code",
   "execution_count": 18,
   "id": "a36dc42a-e3e4-484b-b463-417e92585ed9",
   "metadata": {},
   "outputs": [
    {
     "name": "stdout",
     "output_type": "stream",
     "text": [
      "+-----------+-------+----------+--------------------+\n",
      "|  Duration | Stock | Holding  | Day-night Strategy |\n",
      "+-----------+-------+----------+--------------------+\n",
      "|   1 week  |  AMZN |  4.41%   |       0.97%        |\n",
      "|   1 week  |  AAPL |  2.15%   |       0.05%        |\n",
      "|  1 month  |  AMZN |  2.14%   |       2.13%        |\n",
      "|  1 month  |  AAPL |   4.3%   |       -1.13%       |\n",
      "| 1 quarter |  AMZN |  5.59%   |       -1.28%       |\n",
      "| 1 quarter |  AAPL |  22.05%  |       -1.56%       |\n",
      "|   1 year  |  AMZN |  0.46%   |       35.43%       |\n",
      "|   1 year  |  AAPL |  19.66%  |       27.99%       |\n",
      "|  1 decade |  AMZN | 1513.42% |      308.51%       |\n",
      "|  1 decade |  AAPL | 994.42%  |       207.1%       |\n",
      "+-----------+-------+----------+--------------------+\n"
     ]
    }
   ],
   "source": [
    "print(table)"
   ]
  },
  {
   "cell_type": "code",
   "execution_count": null,
   "id": "52014b92-703f-4635-8cf2-664f97131767",
   "metadata": {},
   "outputs": [],
   "source": []
  }
 ],
 "metadata": {
  "kernelspec": {
   "display_name": "Python 3",
   "language": "python",
   "name": "python3"
  },
  "language_info": {
   "codemirror_mode": {
    "name": "ipython",
    "version": 3
   },
   "file_extension": ".py",
   "mimetype": "text/x-python",
   "name": "python",
   "nbconvert_exporter": "python",
   "pygments_lexer": "ipython3",
   "version": "3.8.8"
  }
 },
 "nbformat": 4,
 "nbformat_minor": 5
}
